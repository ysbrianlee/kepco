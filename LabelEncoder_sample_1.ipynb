{
  "nbformat": 4,
  "nbformat_minor": 0,
  "metadata": {
    "colab": {
      "name": "LabelEncoder_sample#1.ipynb",
      "provenance": []
    },
    "kernelspec": {
      "name": "python3",
      "display_name": "Python 3"
    },
    "language_info": {
      "name": "python"
    }
  },
  "cells": [
    {
      "cell_type": "code",
      "execution_count": 1,
      "metadata": {
        "id": "FhULQ0zDiVdg"
      },
      "outputs": [],
      "source": [
        "import numpy as np\n",
        "from sklearn import preprocessing "
      ]
    },
    {
      "cell_type": "code",
      "source": [
        "# 샘플입력 레이블\n",
        "input_labels = ['red', 'black', 'red', 'green', 'black', 'yellow', 'white']"
      ],
      "metadata": {
        "id": "tvzaNSDqihAC"
      },
      "execution_count": 14,
      "outputs": []
    },
    {
      "cell_type": "code",
      "source": [
        "# 레이블 인코더를 생성하고, 레이블을 적용\n",
        "encoder = preprocessing.LabelEncoder()\n",
        "encoder.fit(input_labels)"
      ],
      "metadata": {
        "colab": {
          "base_uri": "https://localhost:8080/"
        },
        "id": "Swxv1xxWiyYR",
        "outputId": "c6af30ea-44de-4af1-a77b-28ebbed2d705"
      },
      "execution_count": 12,
      "outputs": [
        {
          "output_type": "execute_result",
          "data": {
            "text/plain": [
              "LabelEncoder()"
            ]
          },
          "metadata": {},
          "execution_count": 12
        }
      ]
    },
    {
      "cell_type": "code",
      "source": [
        "# 매핑을 출력\n",
        "print(\"\\nLabel mapping:\")\n",
        "for i, item in enumerate(encoder.classes_):\n",
        "  print(item, '-->', i)"
      ],
      "metadata": {
        "colab": {
          "base_uri": "https://localhost:8080/"
        },
        "id": "rPWk3XACjAf3",
        "outputId": "6258042d-c4e5-4b7a-ed8a-0678c9902dc3"
      },
      "execution_count": 13,
      "outputs": [
        {
          "output_type": "stream",
          "name": "stdout",
          "text": [
            "\n",
            "Label mapping:\n",
            "black --> 0\n",
            "green --> 1\n",
            "red --> 2\n",
            "white --> 3\n",
            "yellow --> 4\n"
          ]
        }
      ]
    },
    {
      "cell_type": "code",
      "source": [
        "# 인코더를 이용, 레이블 세트를 인토딩\n",
        "test_labels = ['green', 'red', 'black']\n",
        "encoded_values = encoder.transform(test_labels)\n",
        "print(\"\\nlabels = \", test_labels)\n",
        "print(\"Encoded values = \", list(encoded_values))"
      ],
      "metadata": {
        "colab": {
          "base_uri": "https://localhost:8080/"
        },
        "id": "dM4Vii8RjdBT",
        "outputId": "2992e822-f2e9-446d-ac52-57ee62c61571"
      },
      "execution_count": 11,
      "outputs": [
        {
          "output_type": "stream",
          "name": "stdout",
          "text": [
            "\n",
            "labels =  ['green', 'red', 'black']\n",
            "Encoded values =  [1, 2, 0]\n"
          ]
        }
      ]
    },
    {
      "cell_type": "code",
      "source": [
        "# 인코더를 사용한 값의 세트를 디코딩\n",
        "encoded_values = [3, 0, 4, 1]\n",
        "decoded_list = encoder.inverse_transform(encoded_values)\n",
        "print(\"\\nEncoded values = \", encoded_values)\n",
        "print(\"Decoded labels =\", list(decoded_list))"
      ],
      "metadata": {
        "colab": {
          "base_uri": "https://localhost:8080/"
        },
        "id": "VzlDxJr_kOfJ",
        "outputId": "2bd90dac-09dd-46aa-8fe8-e733270b898c"
      },
      "execution_count": 10,
      "outputs": [
        {
          "output_type": "stream",
          "name": "stdout",
          "text": [
            "\n",
            "Encoded values =  [3, 0, 4, 1]\n",
            "Decoded labels = ['white', 'black', 'yellow', 'green']\n"
          ]
        }
      ]
    },
    {
      "cell_type": "code",
      "source": [
        ""
      ],
      "metadata": {
        "id": "LT0vUGIdlAGD"
      },
      "execution_count": null,
      "outputs": []
    }
  ]
}